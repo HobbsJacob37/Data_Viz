{
 "cells": [
  {
   "cell_type": "markdown",
   "metadata": {
    "colab_type": "text",
    "id": "view-in-github"
   },
   "source": [
    "<a href=\"https://colab.research.google.com/github/nurfnick/Data_Viz/blob/main/Content/Data_Visualization/23_Graphical_Sophistication.ipynb\" target=\"_parent\"><img src=\"https://colab.research.google.com/assets/colab-badge.svg\" alt=\"Open In Colab\"/></a>"
   ]
  },
  {
   "cell_type": "markdown",
   "metadata": {
    "id": "71ycIKP87N1T"
   },
   "source": [
    "# Graphical Sophistication"
   ]
  },
  {
   "cell_type": "markdown",
   "metadata": {
    "id": "iG_wcsVIjfH4"
   },
   "source": [
    "Some of your examples:\n",
    "\n",
    "* [3D](https://github.com/aayushbhurtel/Data_Visualization/blob/main/Quiz21.ipynb)\n",
    "\n",
    "* [Labels!](https://github.com/JoshStrother/DataVisualization/blob/main/Lesson22.ipynb)\n",
    "\n",
    "* [Sub Pie Charts](https://symposium.foragerone.com/okrd22/presentations/37220)\n",
    "* [Full Moon](https://github.com/BimalShrestha/data-process-and-visualization-/blob/main/Quiz22.ipynb)"
   ]
  },
  {
   "cell_type": "markdown",
   "metadata": {
    "id": "9SfUF1mZ7RsT"
   },
   "source": [
    "So why do we get graphics that do not have integrity?\n",
    "\n",
    "1. Lack of Quantiative Skills in Professional Artists\n",
    "2. Statistics are Boring\n",
    "3. Graphics are for the Unsophisticated Reader\n",
    "4. Most News sources use Graphics that have only one variable\n",
    "5. Most schoolbooks (and exams) use graphics with many variables\n",
    "\n"
   ]
  },
  {
   "cell_type": "markdown",
   "metadata": {
    "id": "BYB1N1SZ9SKx"
   },
   "source": [
    "[Football Player's Earnings](https://twitter.com/advertisedtwit/status/1473354400294965258)\n",
    "\n",
    "![wtf](https://pbs.twimg.com/media/FHJoBH7WYAkjVhF?format=jpg&name=900x900)"
   ]
  },
  {
   "cell_type": "markdown",
   "metadata": {
    "id": "aluFKngaLUdj"
   },
   "source": [
    "![Pizza Pie](https://pbs.twimg.com/media/C6O7yQ5WcAARhka.jpg)"
   ]
  },
  {
   "cell_type": "markdown",
   "metadata": {
    "id": "t6MJx9TYb9ur"
   },
   "source": [
    "![Scatter Plot Error](https://i.redd.it/4og0koaq4cq81.png)"
   ]
  },
  {
   "cell_type": "markdown",
   "metadata": {
    "id": "wyzr--_e992j"
   },
   "source": [
    "Honestly, let's just spend some time [here](https://viz.wtf/) looking at charts..."
   ]
  },
  {
   "cell_type": "markdown",
   "metadata": {
    "id": "ZpK-ATKq-FUL"
   },
   "source": [
    "## Your Turn"
   ]
  },
  {
   "cell_type": "markdown",
   "metadata": {
    "id": "WFtERtk_-HLT"
   },
   "source": [
    "Find two charts that were not discussed during class today and examine them for graphical excellence, sophistication and integrity.  You should write about 100 words about each graph and include the image and a link to where it can be found."
   ]
  },
  {
   "cell_type": "code",
   "execution_count": null,
   "metadata": {
    "id": "z1GAE2ZN7NMH"
   },
   "outputs": [],
   "source": []
  }
 ],
 "metadata": {
  "colab": {
   "authorship_tag": "ABX9TyPKA+H0KE5Nbp+3aBdslMOp",
   "include_colab_link": true,
   "name": "Untitled94.ipynb",
   "provenance": []
  },
  "kernelspec": {
   "display_name": "Python 3",
   "name": "python3"
  },
  "language_info": {
   "name": "python"
  }
 },
 "nbformat": 4,
 "nbformat_minor": 0
}