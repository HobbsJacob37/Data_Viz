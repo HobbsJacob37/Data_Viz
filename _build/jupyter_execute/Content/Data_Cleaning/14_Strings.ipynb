{
 "cells": [
  {
   "cell_type": "markdown",
   "metadata": {
    "colab_type": "text",
    "id": "view-in-github"
   },
   "source": [
    "<a href=\"https://colab.research.google.com/github/nurfnick/Data_Viz/blob/main/14_Strings.ipynb\" target=\"_parent\"><img src=\"https://colab.research.google.com/assets/colab-badge.svg\" alt=\"Open In Colab\"/></a>"
   ]
  },
  {
   "cell_type": "markdown",
   "metadata": {
    "id": "7P1LQBnR8m9D"
   },
   "source": [
    "# Strings"
   ]
  },
  {
   "cell_type": "markdown",
   "metadata": {
    "id": "IGc4fwGT9KMx"
   },
   "source": [
    "## Indexing"
   ]
  },
  {
   "cell_type": "markdown",
   "metadata": {
    "id": "B1yJXFCE8pzR"
   },
   "source": [
    "Python has some great ways to deal with strings.  First off you should recognize that python allows indexing on strings.\n"
   ]
  },
  {
   "cell_type": "code",
   "execution_count": 1,
   "metadata": {
    "colab": {
     "base_uri": "https://localhost:8080/",
     "height": 36
    },
    "id": "kzb23h8J8mQB",
    "outputId": "f57425d4-2d87-48a1-a75d-e7a9de69a2c5"
   },
   "outputs": [
    {
     "data": {
      "application/vnd.google.colaboratory.intrinsic+json": {
       "type": "string"
      },
      "text/plain": [
       "'H'"
      ]
     },
     "execution_count": 1,
     "metadata": {},
     "output_type": "execute_result"
    }
   ],
   "source": [
    "hello = 'Hello World'\n",
    "\n",
    "hello[0]"
   ]
  },
  {
   "cell_type": "markdown",
   "metadata": {
    "id": "2y0XRR-187D4"
   },
   "source": [
    "Since indexing is allowed you can also use a string as the counter in a list!"
   ]
  },
  {
   "cell_type": "code",
   "execution_count": 2,
   "metadata": {
    "colab": {
     "base_uri": "https://localhost:8080/"
    },
    "id": "p1BvkjFm84di",
    "outputId": "5591dcf4-689c-4c07-e84a-28d8e7500a7a"
   },
   "outputs": [
    {
     "name": "stdout",
     "output_type": "stream",
     "text": [
      "H\n",
      "e\n",
      "l\n",
      "l\n",
      "o\n",
      " \n",
      "W\n",
      "o\n",
      "r\n",
      "l\n",
      "d\n"
     ]
    }
   ],
   "source": [
    "for letter in hello:\n",
    "  print(letter)"
   ]
  },
  {
   "cell_type": "markdown",
   "metadata": {
    "id": "Eb1ivv-E9d6A"
   },
   "source": [
    "There are of course many more exotic ways to access parts of stings.\n",
    "\n",
    "Below I get the last item with negative indexing which starts at the back and works its way forward."
   ]
  },
  {
   "cell_type": "code",
   "execution_count": 3,
   "metadata": {
    "colab": {
     "base_uri": "https://localhost:8080/",
     "height": 36
    },
    "id": "BSQKrosk9GFi",
    "outputId": "3a25ae7b-6c52-478a-b353-29fc8fd732a5"
   },
   "outputs": [
    {
     "data": {
      "application/vnd.google.colaboratory.intrinsic+json": {
       "type": "string"
      },
      "text/plain": [
       "'d'"
      ]
     },
     "execution_count": 3,
     "metadata": {},
     "output_type": "execute_result"
    }
   ],
   "source": [
    "hello[-1]"
   ]
  },
  {
   "cell_type": "markdown",
   "metadata": {
    "id": "rp94G4-S9rXh"
   },
   "source": [
    "Next I get everything but the last."
   ]
  },
  {
   "cell_type": "code",
   "execution_count": 4,
   "metadata": {
    "colab": {
     "base_uri": "https://localhost:8080/",
     "height": 36
    },
    "id": "31RupVW_9mMi",
    "outputId": "1e6831c3-a695-46fc-8a8d-f5ca4883ea2a"
   },
   "outputs": [
    {
     "data": {
      "application/vnd.google.colaboratory.intrinsic+json": {
       "type": "string"
      },
      "text/plain": [
       "'Hello Worl'"
      ]
     },
     "execution_count": 4,
     "metadata": {},
     "output_type": "execute_result"
    }
   ],
   "source": [
    "hello[:-1]"
   ]
  },
  {
   "cell_type": "markdown",
   "metadata": {
    "id": "2Y7bVJ_d91zg"
   },
   "source": [
    "How about every other character?"
   ]
  },
  {
   "cell_type": "code",
   "execution_count": 5,
   "metadata": {
    "colab": {
     "base_uri": "https://localhost:8080/",
     "height": 36
    },
    "id": "C06AM3Pq9zXH",
    "outputId": "5d6c4f49-8171-4bb2-f812-6ba736c0c89f"
   },
   "outputs": [
    {
     "data": {
      "application/vnd.google.colaboratory.intrinsic+json": {
       "type": "string"
      },
      "text/plain": [
       "'HloWrd'"
      ]
     },
     "execution_count": 5,
     "metadata": {},
     "output_type": "execute_result"
    }
   ],
   "source": [
    "hello[::2]"
   ]
  },
  {
   "cell_type": "markdown",
   "metadata": {
    "id": "0_kPEPhx-Cxt"
   },
   "source": [
    "Perhaps a little more explanation is needed here.  In the indexing `x[a:b]` you will get the $a^{th}$ element up to the $b-1$ element.  You can also index `x[a:b:n]` where you only pick every $n^{th}$ element from that list.  Not sure how important this may be for data cleaning but it is availabe.  When one of the numbers is not included, you will do this over the entire string."
   ]
  },
  {
   "cell_type": "code",
   "execution_count": 6,
   "metadata": {
    "colab": {
     "base_uri": "https://localhost:8080/",
     "height": 36
    },
    "id": "HqBQv5c497R9",
    "outputId": "13ba1798-664b-4dce-9343-f9524768bdc9"
   },
   "outputs": [
    {
     "data": {
      "application/vnd.google.colaboratory.intrinsic+json": {
       "type": "string"
      },
      "text/plain": [
       "'Hello World'"
      ]
     },
     "execution_count": 6,
     "metadata": {},
     "output_type": "execute_result"
    }
   ],
   "source": [
    "hello[::]"
   ]
  },
  {
   "cell_type": "markdown",
   "metadata": {
    "id": "5CwfJiHkDnBp"
   },
   "source": [
    "Reversing a string is a snap too!"
   ]
  },
  {
   "cell_type": "code",
   "execution_count": 9,
   "metadata": {
    "colab": {
     "base_uri": "https://localhost:8080/",
     "height": 36
    },
    "id": "5cm0yNWzDqq6",
    "outputId": "78ee188a-9743-4714-ab58-93c68328c46c"
   },
   "outputs": [
    {
     "data": {
      "application/vnd.google.colaboratory.intrinsic+json": {
       "type": "string"
      },
      "text/plain": [
       "'dlroW olleH'"
      ]
     },
     "execution_count": 9,
     "metadata": {},
     "output_type": "execute_result"
    }
   ],
   "source": [
    "hello[::-1]"
   ]
  },
  {
   "cell_type": "markdown",
   "metadata": {
    "id": "UUPV82pL_CsB"
   },
   "source": [
    "## String Operations"
   ]
  },
  {
   "cell_type": "markdown",
   "metadata": {
    "id": "hYzKMF64_GcL"
   },
   "source": [
    "There are some essential string operations!\n",
    "\n",
    "Addition will combine two strings."
   ]
  },
  {
   "cell_type": "code",
   "execution_count": 7,
   "metadata": {
    "colab": {
     "base_uri": "https://localhost:8080/",
     "height": 36
    },
    "id": "HUPWo8eN-2e-",
    "outputId": "8790071f-42b2-4a36-aba8-f3ce78a1fb87"
   },
   "outputs": [
    {
     "data": {
      "application/vnd.google.colaboratory.intrinsic+json": {
       "type": "string"
      },
      "text/plain": [
       "'Hello World Goodbye Cruel World'"
      ]
     },
     "execution_count": 7,
     "metadata": {},
     "output_type": "execute_result"
    }
   ],
   "source": [
    "goodbye = 'Goodbye Cruel World'\n",
    "\n",
    "hello + \" \" + goodbye"
   ]
  },
  {
   "cell_type": "markdown",
   "metadata": {
    "id": "ZJG-Hhds_b7D"
   },
   "source": [
    "I actually combined three strings there putting a space inbetween the variables for ease of reading.\n",
    "\n",
    "Multiplying is allowed on strings"
   ]
  },
  {
   "cell_type": "code",
   "execution_count": 10,
   "metadata": {
    "colab": {
     "base_uri": "https://localhost:8080/",
     "height": 36
    },
    "id": "tBek_3MK_Yr0",
    "outputId": "9b2f720e-f565-4f40-bbff-c7f341b03a8b"
   },
   "outputs": [
    {
     "data": {
      "application/vnd.google.colaboratory.intrinsic+json": {
       "type": "string"
      },
      "text/plain": [
       "'Hello WorldHello World'"
      ]
     },
     "execution_count": 10,
     "metadata": {},
     "output_type": "execute_result"
    }
   ],
   "source": [
    "hello * 2"
   ]
  },
  {
   "cell_type": "markdown",
   "metadata": {
    "id": "AF5H9oDsD4UF"
   },
   "source": [
    "If you want to use a non-string with a string make sure to convert."
   ]
  },
  {
   "cell_type": "code",
   "execution_count": 11,
   "metadata": {
    "colab": {
     "base_uri": "https://localhost:8080/",
     "height": 36
    },
    "id": "3uQn883j_p12",
    "outputId": "20aae514-d730-4ccd-9259-f4bffcfe0c60"
   },
   "outputs": [
    {
     "data": {
      "application/vnd.google.colaboratory.intrinsic+json": {
       "type": "string"
      },
      "text/plain": [
       "'Hello World3'"
      ]
     },
     "execution_count": 11,
     "metadata": {},
     "output_type": "execute_result"
    }
   ],
   "source": [
    "x = 3\n",
    "\n",
    "hello + str(x)"
   ]
  },
  {
   "cell_type": "markdown",
   "metadata": {
    "id": "Y2gf_QOtEMK7"
   },
   "source": [
    "## In and Not In"
   ]
  },
  {
   "cell_type": "markdown",
   "metadata": {
    "id": "SWZhiUlYEQNo"
   },
   "source": [
    "In and not in are very useful in string manipulations."
   ]
  },
  {
   "cell_type": "code",
   "execution_count": 31,
   "metadata": {
    "colab": {
     "base_uri": "https://localhost:8080/"
    },
    "id": "m9YcoGUcEDRo",
    "outputId": "da60a126-5499-4b11-b8dc-7984e10a92e0"
   },
   "outputs": [
    {
     "name": "stdout",
     "output_type": "stream",
     "text": [
      "Hello is in the string \"Hello World\"\n"
     ]
    }
   ],
   "source": [
    "if 'Hello' in hello:\n",
    "  print('Hello is in the string \"{0}\"'.format(hello))"
   ]
  },
  {
   "cell_type": "code",
   "execution_count": 14,
   "metadata": {
    "colab": {
     "base_uri": "https://localhost:8080/"
    },
    "id": "g8c-lNAXEhRw",
    "outputId": "a009e578-f969-4f19-b438-7b2c03229098"
   },
   "outputs": [
    {
     "name": "stdout",
     "output_type": "stream",
     "text": [
      "hello is not in the string \"Hello World\"\n"
     ]
    }
   ],
   "source": [
    "if 'hello' not in hello:\n",
    "  print('hello is not in the string \"{}\"'.format(hello))"
   ]
  },
  {
   "cell_type": "markdown",
   "metadata": {
    "id": "uaStio3uEuR2"
   },
   "source": [
    "The difference here is very slight just whether 'Hello' has been capitalized or not!"
   ]
  },
  {
   "cell_type": "markdown",
   "metadata": {
    "id": "k3abFoe5E5W2"
   },
   "source": [
    "## Capitalize"
   ]
  },
  {
   "cell_type": "markdown",
   "metadata": {
    "id": "gt2j7QYJE8He"
   },
   "source": [
    "Capitalizing can make a big difference in how we see a string.  Most likely you capitalize parts of your name but does that make the word different?  This could be a big issue for us (we actually saw this in Iowa Liquor data set!)\n",
    "\n",
    "Capitalize will capitalize the first letter."
   ]
  },
  {
   "cell_type": "code",
   "execution_count": 15,
   "metadata": {
    "colab": {
     "base_uri": "https://localhost:8080/",
     "height": 36
    },
    "id": "ZOTi6tmdEswZ",
    "outputId": "88bed676-e8b4-4b32-9c23-ec0c35d9cdc0"
   },
   "outputs": [
    {
     "data": {
      "application/vnd.google.colaboratory.intrinsic+json": {
       "type": "string"
      },
      "text/plain": [
       "'Hello'"
      ]
     },
     "execution_count": 15,
     "metadata": {},
     "output_type": "execute_result"
    }
   ],
   "source": [
    "str.capitalize('hello')"
   ]
  },
  {
   "cell_type": "markdown",
   "metadata": {
    "id": "1XaZ8I_7Fp4C"
   },
   "source": [
    "`upper` and `lower` will convert the entire string to upper case or lower case."
   ]
  },
  {
   "cell_type": "code",
   "execution_count": 16,
   "metadata": {
    "colab": {
     "base_uri": "https://localhost:8080/",
     "height": 36
    },
    "id": "Vz-jYBpBFRTQ",
    "outputId": "09005570-af6a-41f4-d2d3-2d2587352738"
   },
   "outputs": [
    {
     "data": {
      "application/vnd.google.colaboratory.intrinsic+json": {
       "type": "string"
      },
      "text/plain": [
       "'HELLO'"
      ]
     },
     "execution_count": 16,
     "metadata": {},
     "output_type": "execute_result"
    }
   ],
   "source": [
    "str.upper('hello')"
   ]
  },
  {
   "cell_type": "code",
   "execution_count": 17,
   "metadata": {
    "colab": {
     "base_uri": "https://localhost:8080/",
     "height": 36
    },
    "id": "9jfvC1ADFZRZ",
    "outputId": "5a3e54bd-991d-4fce-8e74-cf3a6cf7a257"
   },
   "outputs": [
    {
     "data": {
      "application/vnd.google.colaboratory.intrinsic+json": {
       "type": "string"
      },
      "text/plain": [
       "'hello'"
      ]
     },
     "execution_count": 17,
     "metadata": {},
     "output_type": "execute_result"
    }
   ],
   "source": [
    "str.lower('Hello')"
   ]
  },
  {
   "cell_type": "code",
   "execution_count": 19,
   "metadata": {
    "colab": {
     "base_uri": "https://localhost:8080/",
     "height": 36
    },
    "id": "1NZuOCkFFchi",
    "outputId": "6d721cfc-e64d-48b3-bcab-f33f101f0966"
   },
   "outputs": [
    {
     "data": {
      "application/vnd.google.colaboratory.intrinsic+json": {
       "type": "string"
      },
      "text/plain": [
       "'hello'"
      ]
     },
     "execution_count": 19,
     "metadata": {},
     "output_type": "execute_result"
    }
   ],
   "source": [
    "str.lower('HELLO')"
   ]
  },
  {
   "cell_type": "code",
   "execution_count": null,
   "metadata": {
    "id": "yScvW2VfFf8Y"
   },
   "outputs": [],
   "source": []
  },
  {
   "cell_type": "markdown",
   "metadata": {
    "id": "JuRc8T1LJfd7"
   },
   "source": [
    "## Spaces"
   ]
  },
  {
   "cell_type": "markdown",
   "metadata": {
    "id": "mSHXhcDbJho-"
   },
   "source": [
    "Sometimes spaces will creep into your data.  Be aware that will effect the difference in strings!"
   ]
  },
  {
   "cell_type": "code",
   "execution_count": 20,
   "metadata": {
    "colab": {
     "base_uri": "https://localhost:8080/"
    },
    "id": "TX4e-F0JJg6k",
    "outputId": "9ce6ee16-6e7b-48ec-dcc2-0749c398bd96"
   },
   "outputs": [
    {
     "data": {
      "text/plain": [
       "False"
      ]
     },
     "execution_count": 20,
     "metadata": {},
     "output_type": "execute_result"
    }
   ],
   "source": [
    "hello_with_space = ' Hello World'\n",
    "\n",
    "hello == hello_with_space"
   ]
  },
  {
   "cell_type": "markdown",
   "metadata": {
    "id": "qEh00mnqJymd"
   },
   "source": [
    "To fix this we can remove leading spaces with `lstrip`\n",
    "\n"
   ]
  },
  {
   "cell_type": "code",
   "execution_count": 22,
   "metadata": {
    "colab": {
     "base_uri": "https://localhost:8080/",
     "height": 36
    },
    "id": "syHy9HTuJxpW",
    "outputId": "6f51a4af-3dcb-4273-cd0d-706680a5dada"
   },
   "outputs": [
    {
     "data": {
      "application/vnd.google.colaboratory.intrinsic+json": {
       "type": "string"
      },
      "text/plain": [
       "'Hello World'"
      ]
     },
     "execution_count": 22,
     "metadata": {},
     "output_type": "execute_result"
    }
   ],
   "source": [
    "hello_with_space.lstrip()"
   ]
  },
  {
   "cell_type": "code",
   "execution_count": 23,
   "metadata": {
    "colab": {
     "base_uri": "https://localhost:8080/"
    },
    "id": "8RPYK7NcJ7oP",
    "outputId": "1167b86e-c15c-4af4-81f3-03510774b8e0"
   },
   "outputs": [
    {
     "data": {
      "text/plain": [
       "True"
      ]
     },
     "execution_count": 23,
     "metadata": {},
     "output_type": "execute_result"
    }
   ],
   "source": [
    "hello_with_space.lstrip() == hello"
   ]
  },
  {
   "cell_type": "markdown",
   "metadata": {
    "id": "yfc8YftCMZMk"
   },
   "source": [
    "You can also check if a string is just a space.  This command will return true on other more exotic space like items too."
   ]
  },
  {
   "cell_type": "code",
   "execution_count": 28,
   "metadata": {
    "colab": {
     "base_uri": "https://localhost:8080/"
    },
    "id": "cG-bmzgwMQgY",
    "outputId": "54eba39a-c83b-4bbd-f349-65f5d4941913"
   },
   "outputs": [
    {
     "data": {
      "text/plain": [
       "True"
      ]
     },
     "execution_count": 28,
     "metadata": {},
     "output_type": "execute_result"
    }
   ],
   "source": [
    "\" \".isspace()"
   ]
  },
  {
   "cell_type": "markdown",
   "metadata": {
    "id": "gqtvgjPHKXoF"
   },
   "source": [
    "## Find, Replace and Split"
   ]
  },
  {
   "cell_type": "markdown",
   "metadata": {
    "id": "FEVpaO-qKams"
   },
   "source": [
    "We can find the index in a string of another string."
   ]
  },
  {
   "cell_type": "code",
   "execution_count": 24,
   "metadata": {
    "colab": {
     "base_uri": "https://localhost:8080/"
    },
    "id": "DU9wxuBnKD5P",
    "outputId": "dc34ea93-1861-497a-cd8e-c5f9054f2e82"
   },
   "outputs": [
    {
     "data": {
      "text/plain": [
       "6"
      ]
     },
     "execution_count": 24,
     "metadata": {},
     "output_type": "execute_result"
    }
   ],
   "source": [
    "hello.find('Wor')"
   ]
  },
  {
   "cell_type": "markdown",
   "metadata": {
    "id": "GQ_AG8E0KjXP"
   },
   "source": [
    "Of course this is just where 'Wor' starts!\n",
    "\n",
    "If we want to `replace` that string with another, we can."
   ]
  },
  {
   "cell_type": "code",
   "execution_count": 25,
   "metadata": {
    "colab": {
     "base_uri": "https://localhost:8080/",
     "height": 36
    },
    "id": "9C_Dgn1iKh5-",
    "outputId": "bb8e2c51-7b09-42ac-b95d-03379ac0e6fb"
   },
   "outputs": [
    {
     "data": {
      "application/vnd.google.colaboratory.intrinsic+json": {
       "type": "string"
      },
      "text/plain": [
       "'Hello worrrrrrld'"
      ]
     },
     "execution_count": 25,
     "metadata": {},
     "output_type": "execute_result"
    }
   ],
   "source": [
    "hello.replace('Wor', 'worrrrrr')"
   ]
  },
  {
   "cell_type": "markdown",
   "metadata": {
    "id": "18V1AKg4LAk_"
   },
   "source": [
    "This will replace EVERY occurance of 'Wor' if we wanted to limit how many times it could be done, we give the `replace` command one more integer argument saying how many replacements to do."
   ]
  },
  {
   "cell_type": "markdown",
   "metadata": {
    "id": "f60oy1SwLR8S"
   },
   "source": [
    "`split` will create new stings out of the old on a character you define.  It creates a list of the new strings.  Below I have split at the space."
   ]
  },
  {
   "cell_type": "code",
   "execution_count": 26,
   "metadata": {
    "colab": {
     "base_uri": "https://localhost:8080/"
    },
    "id": "AvnUflSHK4gs",
    "outputId": "ffea6b95-f61b-4219-ee87-586d20547668"
   },
   "outputs": [
    {
     "data": {
      "text/plain": [
       "['Hello', 'World']"
      ]
     },
     "execution_count": 26,
     "metadata": {},
     "output_type": "execute_result"
    }
   ],
   "source": [
    "hello.split(' ')"
   ]
  },
  {
   "cell_type": "markdown",
   "metadata": {
    "id": "tFNr3UtUMi1I"
   },
   "source": [
    "## You Turn"
   ]
  },
  {
   "cell_type": "markdown",
   "metadata": {
    "id": "2AjPNMnSNS0v"
   },
   "source": [
    "Write a program to print the 'Happy Birthday' song including your name.  Try to do it with as few strings as possible.\n"
   ]
  },
  {
   "cell_type": "markdown",
   "metadata": {
    "id": "CmoUnlFBMkz3"
   },
   "source": [
    "## Continued Reading"
   ]
  },
  {
   "cell_type": "markdown",
   "metadata": {
    "id": "S4oBRvPXMnJ1"
   },
   "source": [
    "\n",
    "\n",
    "*   https://www.datacamp.com/community/tutorials/python-string-tutorial\n",
    "\n",
    "\n"
   ]
  }
 ],
 "metadata": {
  "colab": {
   "authorship_tag": "ABX9TyPGFntEuxzln9ViP7ic+eiu",
   "include_colab_link": true,
   "name": "Untitled79.ipynb",
   "provenance": []
  },
  "kernelspec": {
   "display_name": "Python 3",
   "name": "python3"
  },
  "language_info": {
   "name": "python"
  }
 },
 "nbformat": 4,
 "nbformat_minor": 0
}