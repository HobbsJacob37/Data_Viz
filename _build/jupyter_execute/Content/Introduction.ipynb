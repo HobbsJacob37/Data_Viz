{
 "cells": [
  {
   "cell_type": "markdown",
   "metadata": {
    "colab_type": "text",
    "id": "view-in-github"
   },
   "source": [
    "<a href=\"https://colab.research.google.com/github/nurfnick/Data_Viz/blob/main/Content/Introduction.ipynb\" target=\"_parent\"><img src=\"https://colab.research.google.com/assets/colab-badge.svg\" alt=\"Open In Colab\"/></a>"
   ]
  },
  {
   "cell_type": "markdown",
   "metadata": {
    "id": "GbAFQ9W5q8q4"
   },
   "source": [
    "# Data Pre-Processing and Visualization"
   ]
  },
  {
   "cell_type": "markdown",
   "metadata": {
    "id": "dxbd68jgrDJg"
   },
   "source": [
    "Welcome to _Data Pre-Processing and Visulaization_.  This text was developed from lecture notes from a course taught in the Spring of 2022 at East Central University in Ada Oklahoma.  \n",
    "\n",
    "The text will cover three main ideas:\n",
    "\n",
    "1. Gathering Data\n",
    "2. Cleaning Data\n",
    "3. Visualizing Data\n",
    "\n",
    "Each section takes about a month to cover and was concluded with an exam (solutions to the exam are found in the back of the text)  Each lecture contains some problems to attempt (with some selected solutions).  These were utilized as daily quizzes although some took much more time than others.  The course concluded with two projects, recreating the masters and examining recent visualizations.  \n",
    "\n",
    "Data sets utilized in the course can be found in the [github repository](https://github.com/nurfnick/Data_Viz/tree/main/Data_Sets) for this text.  Most pages include a link to [google colab](https://colab.research.google.com/) so you should be able to run the code there.  You will need to create a [BigQuery](https://console.cloud.google.com/bigquery) account to utilize the SQL section.\n",
    "\n",
    "\n",
    "I do not suggest running two projects at once.  In future iterations of the course, I may switch the order, first running **Visualize Data**, doing the project on examining recent visualizations and then proceed with Gathering and cleaning and conlude with recreating the masters."
   ]
  },
  {
   "cell_type": "code",
   "execution_count": null,
   "metadata": {
    "id": "gYH6df6Lq8GN"
   },
   "outputs": [],
   "source": []
  }
 ],
 "metadata": {
  "colab": {
   "authorship_tag": "ABX9TyM/yYoIrMBjxEes1FXnztnC",
   "include_colab_link": true,
   "name": "Untitled106.ipynb",
   "provenance": []
  },
  "kernelspec": {
   "display_name": "Python 3",
   "name": "python3"
  },
  "language_info": {
   "name": "python"
  }
 },
 "nbformat": 4,
 "nbformat_minor": 0
}