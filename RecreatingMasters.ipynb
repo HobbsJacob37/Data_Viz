{
  "nbformat": 4,
  "nbformat_minor": 0,
  "metadata": {
    "colab": {
      "name": "Untitled103.ipynb",
      "provenance": [],
      "authorship_tag": "ABX9TyP9i5RDk1MGHWr9vxeHkTWG",
      "include_colab_link": true
    },
    "kernelspec": {
      "name": "python3",
      "display_name": "Python 3"
    },
    "language_info": {
      "name": "python"
    }
  },
  "cells": [
    {
      "cell_type": "markdown",
      "metadata": {
        "id": "view-in-github",
        "colab_type": "text"
      },
      "source": [
        "<a href=\"https://colab.research.google.com/github/nurfnick/Data_Viz/blob/main/RecreatingMasters.ipynb\" target=\"_parent\"><img src=\"https://colab.research.google.com/assets/colab-badge.svg\" alt=\"Open In Colab\"/></a>"
      ]
    },
    {
      "cell_type": "markdown",
      "source": [
        "# Recreating the Masters\n"
      ],
      "metadata": {
        "id": "LHxIIe4PCShA"
      }
    },
    {
      "cell_type": "markdown",
      "source": [
        "![Master?](https://preview.redd.it/ldafaqqimpe61.png?auto=webp&s=543ee3bc7509b04c164db6a7acccbc30509ab5b9)"
      ],
      "metadata": {
        "id": "bMdEHdIpCWQW"
      }
    },
    {
      "cell_type": "markdown",
      "source": [
        "To be able to do this I am going to need sports data.  I think I can find that at pro-hockey reference and [images for the teams](https://www.sportslogos.net/teams/list_by_league/1/National_Hockey_League/NHL/logos/)"
      ],
      "metadata": {
        "id": "ESp9NaM6E3cE"
      }
    },
    {
      "cell_type": "code",
      "execution_count": null,
      "metadata": {
        "id": "7VdH756DCR0a"
      },
      "outputs": [],
      "source": [
        ""
      ]
    }
  ]
}