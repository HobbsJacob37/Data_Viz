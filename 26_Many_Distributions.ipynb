{
  "nbformat": 4,
  "nbformat_minor": 0,
  "metadata": {
    "colab": {
      "name": "Untitled98.ipynb",
      "provenance": [],
      "authorship_tag": "ABX9TyNVcQRbCbT2UECXzxuwwARm",
      "include_colab_link": true
    },
    "kernelspec": {
      "name": "python3",
      "display_name": "Python 3"
    },
    "language_info": {
      "name": "python"
    }
  },
  "cells": [
    {
      "cell_type": "markdown",
      "metadata": {
        "id": "view-in-github",
        "colab_type": "text"
      },
      "source": [
        "<a href=\"https://colab.research.google.com/github/nurfnick/Data_Viz/blob/main/26_Many_Distributions.ipynb\" target=\"_parent\"><img src=\"https://colab.research.google.com/assets/colab-badge.svg\" alt=\"Open In Colab\"/></a>"
      ]
    },
    {
      "cell_type": "markdown",
      "source": [
        "# Many Distributions"
      ],
      "metadata": {
        "id": "r7sWTzo9hsps"
      }
    },
    {
      "cell_type": "markdown",
      "source": [
        "Often we have many distributions we want to look at.  In the previous lecture I had three histograms on the same axis.  That will be my limit!  If I have more data than that, I am going to use other tools for visualization.  "
      ],
      "metadata": {
        "id": "QOWLw2MChwK6"
      }
    },
    {
      "cell_type": "markdown",
      "source": [
        "## Box and Whisker Plots"
      ],
      "metadata": {
        "id": "bJomXz29iDFS"
      }
    },
    {
      "cell_type": "markdown",
      "source": [
        "We have already seen box and whisker plots but I find they are very important to visualizing distributions.  I will normally include a box and whisker of just one variable too!"
      ],
      "metadata": {
        "id": "m2DOTGdwiFnP"
      }
    },
    {
      "cell_type": "code",
      "execution_count": null,
      "metadata": {
        "id": "xCmHH8zWhooA"
      },
      "outputs": [],
      "source": [
        "df = "
      ]
    }
  ]
}