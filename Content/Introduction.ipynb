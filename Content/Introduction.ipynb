{
  "nbformat": 4,
  "nbformat_minor": 0,
  "metadata": {
    "colab": {
      "name": "Untitled106.ipynb",
      "provenance": [],
      "authorship_tag": "ABX9TyMQc8tAJWRNqUYI52IR80JL",
      "include_colab_link": true
    },
    "kernelspec": {
      "name": "python3",
      "display_name": "Python 3"
    },
    "language_info": {
      "name": "python"
    }
  },
  "cells": [
    {
      "cell_type": "markdown",
      "metadata": {
        "id": "view-in-github",
        "colab_type": "text"
      },
      "source": [
        "<a href=\"https://colab.research.google.com/github/nurfnick/Data_Viz/blob/main/Content/Introduction.ipynb\" target=\"_parent\"><img src=\"https://colab.research.google.com/assets/colab-badge.svg\" alt=\"Open In Colab\"/></a>"
      ]
    },
    {
      "cell_type": "markdown",
      "source": [
        "# Data Pre-Processing and Visualization"
      ],
      "metadata": {
        "id": "GbAFQ9W5q8q4"
      }
    },
    {
      "cell_type": "markdown",
      "source": [
        "Welcome to _Data Pre-Processing and Visulaization_.  This text was developed from lecture notes from a course taught in the Spring of 2022 at East Central University in Ada Oklahoma.  \n",
        "\n",
        "The text will cover three main ideas:\n",
        "\n",
        "1. Gathering Data\n",
        "2. Cleaning Data\n",
        "3. Visualizing Data\n",
        "\n",
        "Each section takes about a month to cover and was concluded with an exam (solutions to the exam are found in the back of the text)  Each lecture contains some problems to attempt (with some selected solutions).  These were utilized as daily quizzes although some took much more time than others.  The course concluded with two projects, recreating the masters and examining recent visualizations.  I do not suggest running two projects at once.  In future iterations of the course, I may switch the order, first running **Visualize Data**, doing the project on examining recent visualizations and then proceed with Gathering and cleaning and conlude with recreating the masters."
      ],
      "metadata": {
        "id": "dxbd68jgrDJg"
      }
    },
    {
      "cell_type": "code",
      "execution_count": null,
      "metadata": {
        "id": "gYH6df6Lq8GN"
      },
      "outputs": [],
      "source": [
        ""
      ]
    }
  ]
}