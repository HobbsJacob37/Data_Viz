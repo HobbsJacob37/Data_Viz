{
  "nbformat": 4,
  "nbformat_minor": 0,
  "metadata": {
    "colab": {
      "name": "Untitled92.ipynb",
      "provenance": [],
      "authorship_tag": "ABX9TyMzMf7idIIwMAxxoqkCdD4u",
      "include_colab_link": true
    },
    "kernelspec": {
      "name": "python3",
      "display_name": "Python 3"
    },
    "language_info": {
      "name": "python"
    }
  },
  "cells": [
    {
      "cell_type": "markdown",
      "metadata": {
        "id": "view-in-github",
        "colab_type": "text"
      },
      "source": [
        "<a href=\"https://colab.research.google.com/github/nurfnick/Data_Viz/blob/main/Content/Data_Visualization/21_Graphical_Excellence.ipynb\" target=\"_parent\"><img src=\"https://colab.research.google.com/assets/colab-badge.svg\" alt=\"Open In Colab\"/></a>"
      ]
    },
    {
      "cell_type": "markdown",
      "source": [
        "# Graphical Excellence"
      ],
      "metadata": {
        "id": "lKNkEfr0MwuF"
      }
    },
    {
      "cell_type": "markdown",
      "source": [
        "\"Excellence in statistical graphics consists of complex ideas communicated with clarity, precision and efficiency\"\n",
        "\n",
        "\n",
        "\n",
        "*   show the data\n",
        "*   induce thoughts about the data\n",
        "*   avoid distortions\n",
        "*   present many numbers in a small space\n",
        "*   make large datasets coherent\n",
        "*   encourage the eye to compare different pieces of data\n",
        "*   reveal the data at several levels of detail, from broad to fine\n",
        "*   serve a reasonaly clear purpose: description, exploration, tabulation or decoration\n",
        "*   be closely integrated with the statistical and verbal descriptions of a data set\n",
        "\n",
        "__The Visual Display of Quantiative Information__ by Edward Tufte second edition\n",
        "\n"
      ],
      "metadata": {
        "id": "phGgU068M0fZ"
      }
    },
    {
      "cell_type": "markdown",
      "source": [
        "Let's examine a modern example and see if we can highlight the graphical excellence.\n",
        "\n",
        "![Refugees From Ukraine](https://static.dw.com/image/60990458_7.png)\n",
        "\n",
        "Gathered from [here](https://www.dw.com/en/russias-invasion-of-ukraine-in-7-graphics/a-60909241) on 3/7/2022."
      ],
      "metadata": {
        "id": "4VHFJUB6Oza0"
      }
    },
    {
      "cell_type": "markdown",
      "source": [
        "My next example is from 538 and their predictions for the final outcome of the premiere league, https://projects.fivethirtyeight.com/soccer-predictions/premier-league/.  \n",
        "\n",
        "This one is interactive so we'll have to navigate to it!"
      ],
      "metadata": {
        "id": "PPbM8xvPQkWz"
      }
    },
    {
      "cell_type": "markdown",
      "source": [
        "## Historical "
      ],
      "metadata": {
        "id": "vmiMed8QSyLt"
      }
    },
    {
      "cell_type": "markdown",
      "source": [
        "Minard's Russia Campaign.\n",
        "\n",
        "![Minard](https://upload.wikimedia.org/wikipedia/commons/thumb/2/29/Minard.png/800px-Minard.png)\n",
        "\n",
        "From [Wikipedia](https://en.wikipedia.org/wiki/File:Minard.png)"
      ],
      "metadata": {
        "id": "NbHfXMMhS0xm"
      }
    },
    {
      "cell_type": "markdown",
      "source": [
        "## Your Turn\n",
        "\n",
        "1. Examine John Snow's map of cholera outbreak in 1854 for 'graphical excellence'.  Discuss the highlights of the graphic.\n",
        "2. Find a modern reference and dicuss the excellence displayed.  Include a link and image in your report."
      ],
      "metadata": {
        "id": "Q-BgIWcASb3_"
      }
    },
    {
      "cell_type": "markdown",
      "source": [
        "![john Snow](https://upload.wikimedia.org/wikipedia/commons/2/27/Snow-cholera-map-1.jpg)"
      ],
      "metadata": {
        "id": "ii6M48knxJs8"
      }
    },
    {
      "cell_type": "code",
      "execution_count": null,
      "metadata": {
        "id": "4LbX3qS1Mv7e"
      },
      "outputs": [],
      "source": [
        ""
      ]
    }
  ]
}
