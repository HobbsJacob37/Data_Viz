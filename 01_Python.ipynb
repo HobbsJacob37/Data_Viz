{
  "nbformat": 4,
  "nbformat_minor": 0,
  "metadata": {
    "colab": {
      "name": "Untitled67.ipynb",
      "provenance": [],
      "authorship_tag": "ABX9TyO5RXaRfopQIzamSMKKnDnB",
      "include_colab_link": true
    },
    "kernelspec": {
      "name": "python3",
      "display_name": "Python 3"
    },
    "language_info": {
      "name": "python"
    }
  },
  "cells": [
    {
      "cell_type": "markdown",
      "metadata": {
        "id": "view-in-github",
        "colab_type": "text"
      },
      "source": [
        "<a href=\"https://colab.research.google.com/github/nurfnick/Data_Viz/blob/main/01_Python.ipynb\" target=\"_parent\"><img src=\"https://colab.research.google.com/assets/colab-badge.svg\" alt=\"Open In Colab\"/></a>"
      ]
    },
    {
      "cell_type": "markdown",
      "source": [
        "# Jupyter Notebooks and Python"
      ],
      "metadata": {
        "id": "gzNvteiezgJW"
      }
    },
    {
      "cell_type": "markdown",
      "source": [
        "## Jupyter Notebooks and Markdown"
      ],
      "metadata": {
        "id": "8Ks5y0dRzmHJ"
      }
    },
    {
      "cell_type": "markdown",
      "source": [
        "Jupyter notebooks have two important enviroments!  \n",
        "\n",
        "1. Text boxes\n",
        "2. Coding boxes"
      ],
      "metadata": {
        "id": "MmxrVq4AzqaV"
      }
    },
    {
      "cell_type": "code",
      "execution_count": 1,
      "metadata": {
        "colab": {
          "base_uri": "https://localhost:8080/"
        },
        "id": "x_oiW71tzdUZ",
        "outputId": "9d59730f-9a2b-45e4-bce8-aa2c24fd74fb"
      },
      "outputs": [
        {
          "output_type": "stream",
          "name": "stdout",
          "text": [
            "Hello World\n"
          ]
        }
      ],
      "source": [
        "#this is a coding box\n",
        "\n",
        "print('Hello World')"
      ]
    },
    {
      "cell_type": "markdown",
      "source": [
        "The text boxes support the markdown language.  Think of it like html but a lot easier!  You can create [links](https://github.com/nurfnick/Data_Viz), make lists, tables, include images, and you'll probably teach me a trick in it too!  Here is a great reference https://www.markdownguide.org/cheat-sheet/ \n",
        "\n",
        "I'll do some math typesetting too.  markdown supports $\\LaTeX$ encodings too with $ or $$\n",
        "\n",
        "$$\n",
        "x\n",
        "=\n",
        "\\frac\n",
        "{\n",
        "  -b\\pm\\sqrt{b^2-4ac}\n",
        "}\n",
        "{2a}\n",
        "$$\n",
        "\n",
        "Try it, I think you'll mind markdown a great way to express yourself on the web!"
      ],
      "metadata": {
        "id": "e2IFb90Nz74I"
      }
    },
    {
      "cell_type": "markdown",
      "source": [
        "## Jupyter Notebooks and Python"
      ],
      "metadata": {
        "id": "MbFHJ3Gt1S9x"
      }
    },
    {
      "cell_type": "markdown",
      "source": [
        "Code boxes support python coding.  I'll always use python 3, 2 is legacy now and I don't see people using it very much anymore.  \n",
        "\n",
        "Notebooks allow for the code to be run out of order so be careful about reporducibility in your code.  You can move blocks in a notebook up and down over on the right!  Shift + Enter executes a cell (even text!)"
      ],
      "metadata": {
        "id": "Axkn40FU1Xo_"
      }
    },
    {
      "cell_type": "markdown",
      "source": [
        "### Style For Python"
      ],
      "metadata": {
        "id": "VSDoDENO2CSB"
      }
    },
    {
      "cell_type": "markdown",
      "source": [
        "I'll load my packages in their own code cell.  Most things I do will be in their own code cell.  Notebook environment allows you to test your code quickly, especially when writing small functions."
      ],
      "metadata": {
        "id": "AnWozkVF2Gb3"
      }
    },
    {
      "cell_type": "code",
      "source": [
        "import numpy as np #a matrix like package for handling data\n",
        "import pandas as pd #a R like package for handling data\n",
        "from scipy import stats #a way to just get a piece of a large package\n",
        "import matplotlib.pyplot as plt\n",
        "import seaborn as sns"
      ],
      "metadata": {
        "id": "w0H09dgLz6A2"
      },
      "execution_count": 2,
      "outputs": []
    },
    {
      "cell_type": "code",
      "source": [
        "def f(x):\n",
        "  return x**2\n",
        "\n",
        "f(-2)"
      ],
      "metadata": {
        "colab": {
          "base_uri": "https://localhost:8080/"
        },
        "id": "6DfGuJpm2_lh",
        "outputId": "b54a75aa-55f0-49f8-cefa-e8d21ba03c74"
      },
      "execution_count": 5,
      "outputs": [
        {
          "output_type": "execute_result",
          "data": {
            "text/plain": [
              "4"
            ]
          },
          "metadata": {},
          "execution_count": 5
        }
      ]
    },
    {
      "cell_type": "markdown",
      "source": [
        "I'll encourage you to intersperse your code with comments about it using the text box!  Here I have defined a function that is $f(x) = x^2$.  What would have happened if I had done x^2?"
      ],
      "metadata": {
        "id": "bOQz86C93OXD"
      }
    },
    {
      "cell_type": "code",
      "source": [
        "-2^2"
      ],
      "metadata": {
        "colab": {
          "base_uri": "https://localhost:8080/"
        },
        "id": "NNivTEns3KrX",
        "outputId": "cdabbd0f-b7c5-4738-d0df-d147b23da590"
      },
      "execution_count": 6,
      "outputs": [
        {
          "output_type": "execute_result",
          "data": {
            "text/plain": [
              "-4"
            ]
          },
          "metadata": {},
          "execution_count": 6
        }
      ]
    },
    {
      "cell_type": "markdown",
      "source": [
        "That's not right!  Anybody know why?"
      ],
      "metadata": {
        "id": "-iNcQDuK3jOr"
      }
    },
    {
      "cell_type": "markdown",
      "source": [
        "Let's get a visualization since that is why we are here!"
      ],
      "metadata": {
        "id": "tWLO8vLU3omw"
      }
    },
    {
      "cell_type": "code",
      "source": [
        "x = np.arange(-4,4,.1)\n",
        "y = f(x)\n",
        "\n",
        "plt.plot(x,y)"
      ],
      "metadata": {
        "colab": {
          "base_uri": "https://localhost:8080/",
          "height": 283
        },
        "id": "dxbj_Jyy3hv6",
        "outputId": "5ad7cb02-8055-4fa1-bc62-98dd61a134d5"
      },
      "execution_count": 8,
      "outputs": [
        {
          "output_type": "execute_result",
          "data": {
            "text/plain": [
              "[<matplotlib.lines.Line2D at 0x7f0127f37790>]"
            ]
          },
          "metadata": {},
          "execution_count": 8
        },
        {
          "output_type": "display_data",
          "data": {
            "image/png": "[encoded data removed]",
            "text/plain": [
              "<Figure size 432x288 with 1 Axes>"
            ]
          },
          "metadata": {
            "needs_background": "light"
          }
        }
      ]
    },
    {
      "cell_type": "code",
      "source": [
        ""
      ],
      "metadata": {
        "id": "04Pak4U-32bg"
      },
      "execution_count": null,
      "outputs": []
    }
  ]
}