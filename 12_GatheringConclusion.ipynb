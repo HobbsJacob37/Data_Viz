{
  "nbformat": 4,
  "nbformat_minor": 0,
  "metadata": {
    "colab": {
      "name": "Untitled81.ipynb",
      "provenance": [],
      "authorship_tag": "ABX9TyOir5JeWvUA6tjmNwyU5cFr",
      "include_colab_link": true
    },
    "kernelspec": {
      "name": "python3",
      "display_name": "Python 3"
    },
    "language_info": {
      "name": "python"
    }
  },
  "cells": [
    {
      "cell_type": "markdown",
      "metadata": {
        "id": "view-in-github",
        "colab_type": "text"
      },
      "source": [
        "<a href=\"https://colab.research.google.com/github/nurfnick/Data_Viz/blob/main/12_GatheringConclusion.ipynb\" target=\"_parent\"><img src=\"https://colab.research.google.com/assets/colab-badge.svg\" alt=\"Open In Colab\"/></a>"
      ]
    },
    {
      "cell_type": "markdown",
      "source": [
        "# Gathering Data Conclusion"
      ],
      "metadata": {
        "id": "CIYUOQFbeuks"
      }
    },
    {
      "cell_type": "markdown",
      "source": [
        "At this point you should be able to gather data from:\n",
        "\n",
        "\n",
        "*   A CSV or Excel file\n",
        "*   SQL databases\n",
        "*   HTML tables\n",
        "*   Twitter\n",
        "\n",
        "From all that data that you have gathered you should be able to do some basic manipulations on it using pandas or sql langauge.\n",
        "\n",
        "To prepare yourself for the exam, attempt the following problems:\n",
        "\n",
        "1. Use the SQL table `bigquery-public-data.london_fire_brigade.fire_brigade_service_calls`\n",
        "  1. How many entries are there in the dataset\n",
        "  2. How many False Alarms happened between 10PM and 5 AM?\n",
        "  3. What is the average number of num_pumps_attending when there is a Fire?\n",
        "  4. What is the largest number of num_pumps_attending to a Road Vehicle property_category\n",
        "2. Navigate to the Oklahoma wikipedia page.  Grab the table on tempuratures in largest cities.\n",
        "  1. What is the average monthly temperature for OKC?\n",
        "  2. Create a plot of the average monthly tempurature in Tulsa.\n",
        "  3. Identify the city with the highest average tempurature in each month. \n",
        "\n",
        "\n",
        "\n",
        "\n"
      ],
      "metadata": {
        "id": "8PScXGVue0Ko"
      }
    },
    {
      "cell_type": "code",
      "execution_count": null,
      "metadata": {
        "id": "AI8At688ete-"
      },
      "outputs": [],
      "source": [
        ""
      ]
    }
  ]
}