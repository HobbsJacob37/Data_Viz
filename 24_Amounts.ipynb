{
  "nbformat": 4,
  "nbformat_minor": 0,
  "metadata": {
    "colab": {
      "name": "Untitled95.ipynb",
      "provenance": [],
      "authorship_tag": "ABX9TyPebCz2EkHu1+TKLxgue/FW",
      "include_colab_link": true
    },
    "kernelspec": {
      "name": "python3",
      "display_name": "Python 3"
    },
    "language_info": {
      "name": "python"
    }
  },
  "cells": [
    {
      "cell_type": "markdown",
      "metadata": {
        "id": "view-in-github",
        "colab_type": "text"
      },
      "source": [
        "<a href=\"https://colab.research.google.com/github/nurfnick/Data_Viz/blob/main/24_Amounts.ipynb\" target=\"_parent\"><img src=\"https://colab.research.google.com/assets/colab-badge.svg\" alt=\"Open In Colab\"/></a>"
      ]
    },
    {
      "cell_type": "markdown",
      "source": [
        "# Visualize Amounts"
      ],
      "metadata": {
        "id": "yKsH5pmBH20B"
      }
    },
    {
      "cell_type": "markdown",
      "source": [
        "To get started in visualizing, we'll look at one of the simplest ideas, single quantaties.  Let's grab some data too!"
      ],
      "metadata": {
        "id": "azZmT8IBICFv"
      }
    },
    {
      "cell_type": "code",
      "execution_count": null,
      "metadata": {
        "id": "HmMw58R1H2PL"
      },
      "outputs": [],
      "source": [
        "import pandas as pa\n",
        "\n",
        "df = pa.read_csv('https://raw.githubusercontent.com/nurfnick/Data_Viz/main/iris.csv')"
      ]
    },
    {
      "cell_type": "markdown",
      "source": [
        "I'll give a small bar chart of the means of the different Classes of flowers."
      ],
      "metadata": {
        "id": "lxL7R7mFK307"
      }
    },
    {
      "cell_type": "code",
      "source": [
        "df.groupby('Class').SepalLength.agg('mean')"
      ],
      "metadata": {
        "colab": {
          "base_uri": "https://localhost:8080/"
        },
        "id": "jzv_ivWeKqc8",
        "outputId": "c98f6b74-30d3-4099-926a-8ad3e8f26d26"
      },
      "execution_count": null,
      "outputs": [
        {
          "output_type": "execute_result",
          "data": {
            "text/plain": [
              "Class\n",
              "Iris-setosa        5.006\n",
              "Iris-versicolor    5.936\n",
              "Iris-virginica     6.588\n",
              "Name: SepalLength, dtype: float64"
            ]
          },
          "metadata": {},
          "execution_count": 2
        }
      ]
    },
    {
      "cell_type": "code",
      "source": [
        "df.groupby('Class').SepalLength.agg('mean').plot(kind = 'bar')"
      ],
      "metadata": {
        "colab": {
          "base_uri": "https://localhost:8080/",
          "height": 355
        },
        "id": "EAVCcrEGKwI4",
        "outputId": "1f220793-85a8-4004-ec42-db45a5eab5f6"
      },
      "execution_count": null,
      "outputs": [
        {
          "output_type": "execute_result",
          "data": {
            "text/plain": [
              "<matplotlib.axes._subplots.AxesSubplot at 0x7f71140bcf90>"
            ]
          },
          "metadata": {},
          "execution_count": 3
        },
        {
          "output_type": "display_data",
          "data": {
            "text/plain": [
              "<Figure size 432x288 with 1 Axes>"
            ],
            "image/png": "[encoded data removed]"
          },
          "metadata": {
            "needs_background": "light"
          }
        }
      ]
    },
    {
      "cell_type": "markdown",
      "source": [
        "There are lots of options some of which we should be using reguarly.  A title is always nice"
      ],
      "metadata": {
        "id": "A82fc8bOL4kq"
      }
    },
    {
      "cell_type": "code",
      "source": [
        "df.groupby('Class').SepalLength.agg('mean').plot(kind = 'bar', title = 'Mean by Class')"
      ],
      "metadata": {
        "colab": {
          "base_uri": "https://localhost:8080/",
          "height": 371
        },
        "id": "K7avpMHTLDqH",
        "outputId": "1d60557e-d637-402b-f559-895e8bdd0a7c"
      },
      "execution_count": null,
      "outputs": [
        {
          "output_type": "execute_result",
          "data": {
            "text/plain": [
              "<matplotlib.axes._subplots.AxesSubplot at 0x7f7113fa9890>"
            ]
          },
          "metadata": {},
          "execution_count": 4
        },
        {
          "output_type": "display_data",
          "data": {
            "text/plain": [
              "<Figure size 432x288 with 1 Axes>"
            ],
            "image/png": "[encoded data removed]"
          },
          "metadata": {
            "needs_background": "light"
          }
        }
      ]
    },
    {
      "cell_type": "markdown",
      "source": [
        "A vertical description on what the $y$ axis represents should not be forgotten!"
      ],
      "metadata": {
        "id": "S2BtQLuHMG7a"
      }
    },
    {
      "cell_type": "code",
      "source": [
        "df.groupby('Class').SepalLength.agg('mean').plot(kind = 'bar',\n",
        "                                                 title = 'Mean by Class', \n",
        "                                                 ylabel= 'Mean of Sepal Length')"
      ],
      "metadata": {
        "colab": {
          "base_uri": "https://localhost:8080/",
          "height": 371
        },
        "id": "8hsX-J5eMFTL",
        "outputId": "d60c2191-df82-4b02-db95-1cd104f8493e"
      },
      "execution_count": null,
      "outputs": [
        {
          "output_type": "execute_result",
          "data": {
            "text/plain": [
              "<matplotlib.axes._subplots.AxesSubplot at 0x7f7113add550>"
            ]
          },
          "metadata": {},
          "execution_count": 5
        },
        {
          "output_type": "display_data",
          "data": {
            "text/plain": [
              "<Figure size 432x288 with 1 Axes>"
            ],
            "image/png": "[encoded data removed]"
          },
          "metadata": {
            "needs_background": "light"
          }
        }
      ]
    },
    {
      "cell_type": "markdown",
      "source": [
        "One of the complaints about a graphic like this is the length of the class titles.  It takes up a lot of vertical space.  With a `barh` you can change the orientation of the bars."
      ],
      "metadata": {
        "id": "R9RkewJAMtIQ"
      }
    },
    {
      "cell_type": "code",
      "source": [
        "df.groupby('Class').SepalLength.agg('mean').plot(kind = 'barh',\n",
        "                                                 title = 'Mean by Class', \n",
        "                                                 ylabel= 'Mean of Sepal Length')"
      ],
      "metadata": {
        "colab": {
          "base_uri": "https://localhost:8080/",
          "height": 299
        },
        "id": "kbnuOOK-MTaU",
        "outputId": "892cab8f-3d4f-485d-b48b-a80e393b9c07"
      },
      "execution_count": null,
      "outputs": [
        {
          "output_type": "execute_result",
          "data": {
            "text/plain": [
              "<matplotlib.axes._subplots.AxesSubplot at 0x7f7113aab490>"
            ]
          },
          "metadata": {},
          "execution_count": 6
        },
        {
          "output_type": "display_data",
          "data": {
            "text/plain": [
              "<Figure size 432x288 with 1 Axes>"
            ],
            "image/png": "[encoded data removed]"
          },
          "metadata": {
            "needs_background": "light"
          }
        }
      ]
    },
    {
      "cell_type": "markdown",
      "source": [
        "I couldn't get the label of the values to appear, maybe you can?"
      ],
      "metadata": {
        "id": "77IsyWAtNp-2"
      }
    },
    {
      "cell_type": "markdown",
      "source": [
        "If there are lots of values, don't use bars!  Let's see this with a different dataset."
      ],
      "metadata": {
        "id": "ekjKu6D9N2fO"
      }
    },
    {
      "cell_type": "code",
      "source": [
        "df2 = pa.read_csv('https://raw.githubusercontent.com/nurfnick/Data_Viz/main/Activity_Dataset_V1.csv')"
      ],
      "metadata": {
        "id": "IbfS3itbM_o5"
      },
      "execution_count": null,
      "outputs": []
    },
    {
      "cell_type": "markdown",
      "source": [
        "In the following graph it is very difficult to follow the data points across.  "
      ],
      "metadata": {
        "id": "JyGxnf7oO6U9"
      }
    },
    {
      "cell_type": "code",
      "source": [
        "df2.groupby('workout_type').calories.agg('mean').sort_values(ascending = True).plot(kind = 'barh')"
      ],
      "metadata": {
        "colab": {
          "base_uri": "https://localhost:8080/",
          "height": 283
        },
        "id": "fKNtbftvON12",
        "outputId": "0ac4f3a4-b565-4c6e-847f-3a492bc064b8"
      },
      "execution_count": null,
      "outputs": [
        {
          "output_type": "execute_result",
          "data": {
            "text/plain": [
              "<matplotlib.axes._subplots.AxesSubplot at 0x7f71139d3f10>"
            ]
          },
          "metadata": {},
          "execution_count": 8
        },
        {
          "output_type": "display_data",
          "data": {
            "text/plain": [
              "<Figure size 432x288 with 1 Axes>"
            ],
            "image/png": "[encoded data removed]"
          },
          "metadata": {
            "needs_background": "light"
          }
        }
      ]
    },
    {
      "cell_type": "markdown",
      "source": [
        "To clear this up you could use a point instead of a bar!"
      ],
      "metadata": {
        "id": "_lsbEtB9PCYe"
      }
    },
    {
      "cell_type": "code",
      "source": [
        "df2.groupby('workout_type').calories.agg(['mean']).sort_values(by = 'mean',ascending = True).reset_index().plot.scatter(x = 'mean', y = 'workout_type')"
      ],
      "metadata": {
        "colab": {
          "base_uri": "https://localhost:8080/",
          "height": 297
        },
        "id": "yE_6xh8hOXrf",
        "outputId": "7b7a022f-5d7d-44f0-c8eb-5eedbba29144"
      },
      "execution_count": null,
      "outputs": [
        {
          "output_type": "execute_result",
          "data": {
            "text/plain": [
              "<matplotlib.axes._subplots.AxesSubplot at 0x7f711394c450>"
            ]
          },
          "metadata": {},
          "execution_count": 9
        },
        {
          "output_type": "display_data",
          "data": {
            "text/plain": [
              "<Figure size 432x288 with 1 Axes>"
            ],
            "image/png": "[encoded data removed]"
          },
          "metadata": {
            "needs_background": "light"
          }
        }
      ]
    },
    {
      "cell_type": "markdown",
      "source": [
        "This creates other issues in that the origin of the figure is not zero.  To fix that, we simply require that the x limits go from 0 to 310."
      ],
      "metadata": {
        "id": "-71TD_x_Q6dH"
      }
    },
    {
      "cell_type": "code",
      "source": [
        "df2.groupby('workout_type').calories.agg(['mean']).sort_values(by = 'mean',ascending = True).reset_index().plot.scatter(x = 'mean', y = 'workout_type', xlim = [0,310])"
      ],
      "metadata": {
        "colab": {
          "base_uri": "https://localhost:8080/",
          "height": 297
        },
        "id": "R_bcLyMRPXu3",
        "outputId": "c5aa9b7f-d3df-48e8-de9f-7840be9e2112"
      },
      "execution_count": null,
      "outputs": [
        {
          "output_type": "execute_result",
          "data": {
            "text/plain": [
              "<matplotlib.axes._subplots.AxesSubplot at 0x7f71138fb3d0>"
            ]
          },
          "metadata": {},
          "execution_count": 10
        },
        {
          "output_type": "display_data",
          "data": {
            "text/plain": [
              "<Figure size 432x288 with 1 Axes>"
            ],
            "image/png": "[encoded data removed]"
          },
          "metadata": {
            "needs_background": "light"
          }
        }
      ]
    },
    {
      "cell_type": "markdown",
      "source": [
        "All the workout types are giving us about the same bang for our buck, at least in mean calories."
      ],
      "metadata": {
        "id": "0rCTdx6ORQHq"
      }
    },
    {
      "cell_type": "markdown",
      "source": [
        "It might also be nice to see the numbers presented with the data.  This is esspecially nice for a small number of quantities."
      ],
      "metadata": {
        "id": "LDq6XzVN3bzH"
      }
    },
    {
      "cell_type": "code",
      "source": [
        "ax = df2.groupby('workout_type').calories.agg(['mean']).sort_values(by = 'mean',ascending = True).reset_index().plot.scatter(x = 'mean', y = 'workout_type')#this made the same graph as above.\n",
        "\n",
        "for i,k in enumerate(df2.groupby('workout_type').calories.agg(['mean']).sort_values(by = 'mean',ascending = True).reset_index()['mean']): #here I loop through the values, k, and indicies ,i.\n",
        "  ax.annotate(str(int(k)),[k,i])"
      ],
      "metadata": {
        "colab": {
          "base_uri": "https://localhost:8080/",
          "height": 279
        },
        "id": "oGFyC6IaRMuU",
        "outputId": "6ab50dc1-532a-492b-e4dc-207f6a584617"
      },
      "execution_count": null,
      "outputs": [
        {
          "output_type": "display_data",
          "data": {
            "text/plain": [
              "<Figure size 432x288 with 1 Axes>"
            ],
            "image/png": "[encoded data removed]"
          },
          "metadata": {
            "needs_background": "light"
          }
        }
      ]
    },
    {
      "cell_type": "code",
      "source": [
        "means = df2.groupby('workout_type').calories.agg(['mean']).sort_values(by = 'mean',ascending = False)"
      ],
      "metadata": {
        "id": "AO_Unpfa6qtE"
      },
      "execution_count": null,
      "outputs": []
    },
    {
      "cell_type": "code",
      "source": [
        "means = pa.DataFrame(means)\n",
        "for k in means['mean']:\n",
        "  print(k)"
      ],
      "metadata": {
        "colab": {
          "base_uri": "https://localhost:8080/"
        },
        "id": "jThvFV-L_COx",
        "outputId": "4996a1ff-173f-4e35-b979-857b244794cb"
      },
      "execution_count": null,
      "outputs": [
        {
          "output_type": "stream",
          "name": "stdout",
          "text": [
            "307.5483870967742\n",
            "301.4691358024691\n",
            "299.1294117647059\n",
            "296.74725274725273\n",
            "283.4148936170213\n",
            "283.1276595744681\n",
            "280.45\n",
            "278.5520833333333\n",
            "278.14285714285717\n",
            "276.0408163265306\n",
            "267.96666666666664\n"
          ]
        }
      ]
    },
    {
      "cell_type": "code",
      "source": [
        "means['mean']"
      ],
      "metadata": {
        "colab": {
          "base_uri": "https://localhost:8080/"
        },
        "id": "8klAIzXOIaN8",
        "outputId": "2ad0dc6d-804d-403d-ecce-e68af0ac5ebf"
      },
      "execution_count": null,
      "outputs": [
        {
          "output_type": "execute_result",
          "data": {
            "text/plain": [
              "workout_type\n",
              "Cricket            307.548387\n",
              "Outdoor Running    301.469136\n",
              "Outdoor Cycling    299.129412\n",
              "Open Water         296.747253\n",
              "Pool Swimming      283.414894\n",
              "Trekking           283.127660\n",
              "Indoor Cycling     280.450000\n",
              "Freestyle          278.552083\n",
              "Treadmill          278.142857\n",
              "Walking            276.040816\n",
              "Trail Run          267.966667\n",
              "Name: mean, dtype: float64"
            ]
          },
          "metadata": {},
          "execution_count": 55
        }
      ]
    },
    {
      "cell_type": "code",
      "source": [
        ""
      ],
      "metadata": {
        "id": "iQ-VnTXUIxnB"
      },
      "execution_count": null,
      "outputs": []
    }
  ]
}