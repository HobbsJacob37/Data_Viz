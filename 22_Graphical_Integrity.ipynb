{
  "nbformat": 4,
  "nbformat_minor": 0,
  "metadata": {
    "colab": {
      "name": "Untitled93.ipynb",
      "provenance": [],
      "authorship_tag": "ABX9TyMTXARll+6PMyN4AALyNV+P",
      "include_colab_link": true
    },
    "kernelspec": {
      "name": "python3",
      "display_name": "Python 3"
    },
    "language_info": {
      "name": "python"
    }
  },
  "cells": [
    {
      "cell_type": "markdown",
      "metadata": {
        "id": "view-in-github",
        "colab_type": "text"
      },
      "source": [
        "<a href=\"https://colab.research.google.com/github/nurfnick/Data_Viz/blob/main/22_Graphical_Integrity.ipynb\" target=\"_parent\"><img src=\"https://colab.research.google.com/assets/colab-badge.svg\" alt=\"Open In Colab\"/></a>"
      ]
    },
    {
      "cell_type": "markdown",
      "source": [
        "# Graphical Integrity\n"
      ],
      "metadata": {
        "id": "uwymuPOREyVh"
      }
    },
    {
      "cell_type": "markdown",
      "source": [
        "## Lie Factors"
      ],
      "metadata": {
        "id": "nqXyiHUeR5Lc"
      }
    },
    {
      "cell_type": "markdown",
      "source": [
        "\n",
        "$$\n",
        "Lie\\ Factor = \\frac{size\\ of\\ effect\\ shown\\ in \\ graphic}{size\\ of \\ effect\\ in \\ data}\n",
        "$$\n",
        "\n",
        "Look at [Buzz Feed #13](https://www.buzzfeednews.com/article/katienotopoulos/graphs-that-lied-to-us)  Compute the factor.\n",
        "\n",
        "![Lying?](https://img.buzzfeed.com/buzzfeed-static/static/2014-10/2/17/enhanced/webdr02/enhanced-buzz-19972-1412285325-16.jpg?downsize=800:*&output-format=auto&output-quality=auto)\n",
        "\n",
        "\n"
      ],
      "metadata": {
        "id": "iUYh0_aRE59b"
      }
    },
    {
      "cell_type": "markdown",
      "source": [
        "## Don't Go 3D"
      ],
      "metadata": {
        "id": "P1TVHS0DRpPo"
      }
    },
    {
      "cell_type": "markdown",
      "source": [
        "Check out this [link](https://clauswilke.com/dataviz/no-3d.html)"
      ],
      "metadata": {
        "id": "v7SedpN5RsUV"
      }
    },
    {
      "cell_type": "markdown",
      "source": [
        "[Here](https://www.urbanthree.com/case-study/minneapolis-mn/) is another great example where perhaps 3D did add something?  You decide!"
      ],
      "metadata": {
        "id": "iXZU8q_4bwnR"
      }
    },
    {
      "cell_type": "markdown",
      "source": [
        "## Your Turn\n",
        "\n",
        "Head over to [Oklahaoma Research Day](https://symposium.foragerone.com/okrd22).  Spend some time looking at three posters that include statistical charts or graphs.  Include links to each.  Discuss the strengths and weaknesses of each.  Do they display excellence or do they lie?"
      ],
      "metadata": {
        "id": "K3j40wMQaLLI"
      }
    },
    {
      "cell_type": "code",
      "execution_count": null,
      "metadata": {
        "id": "vramFxQlExn4"
      },
      "outputs": [],
      "source": [
        ""
      ]
    }
  ]
}