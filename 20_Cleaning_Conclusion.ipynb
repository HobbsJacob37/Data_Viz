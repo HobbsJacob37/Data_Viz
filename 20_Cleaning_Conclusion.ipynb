{
  "nbformat": 4,
  "nbformat_minor": 0,
  "metadata": {
    "colab": {
      "name": "Untitled91.ipynb",
      "provenance": [],
      "authorship_tag": "ABX9TyMHxejd4EKiTWp1lTxMWg2R",
      "include_colab_link": true
    },
    "kernelspec": {
      "name": "python3",
      "display_name": "Python 3"
    },
    "language_info": {
      "name": "python"
    }
  },
  "cells": [
    {
      "cell_type": "markdown",
      "metadata": {
        "id": "view-in-github",
        "colab_type": "text"
      },
      "source": [
        "<a href=\"https://colab.research.google.com/github/nurfnick/Data_Viz/blob/main/20_Cleaning_Conclusion.ipynb\" target=\"_parent\"><img src=\"https://colab.research.google.com/assets/colab-badge.svg\" alt=\"Open In Colab\"/></a>"
      ]
    },
    {
      "cell_type": "markdown",
      "source": [
        "# Exam 2 Review"
      ],
      "metadata": {
        "id": "t7eEcsbzqkLD"
      }
    },
    {
      "cell_type": "markdown",
      "source": [
        "Utilizing the bank dataset https://github.com/nurfnick/Data_Viz/blob/main/bank.csv answer the following questions.\n",
        "\n",
        "1. What are the datatypes for each column.  Comment on the appropriateness and change any easy/obvious ones.\n",
        "2. Using regular expresssions, remove the hyphen \"-\" from any job and replace it with a space.\n",
        "3. Convert any place where pdays is -1 to NaN.\n",
        "4. Fill the NaN in pdays with a zero.\n",
        "5. Compute the mean and median of balance when grouped by job.\n",
        "6. Add a column that is a datetime.  Use year of 2020.\n",
        "7. Which day of the week (Monday, Tuesday, ect.) had the most approved loans, y = yes.\n",
        "8. Create an indicator column that shows if the person has more than \\$500 in their acocunt.\n",
        "9. Are divorced, admin people given loans at a higher rate?\n",
        "10. Which job is most likely to have a default on their record?\n",
        "11. Do highly educated people have more or less cellular phones than on average?\n",
        "12. Write another question based on your knowledge of the dataset."
      ],
      "metadata": {
        "id": "imK8HrMtqn1A"
      }
    },
    {
      "cell_type": "code",
      "execution_count": null,
      "metadata": {
        "id": "yrE48wBEqjgD"
      },
      "outputs": [],
      "source": [
        ""
      ]
    }
  ]
}