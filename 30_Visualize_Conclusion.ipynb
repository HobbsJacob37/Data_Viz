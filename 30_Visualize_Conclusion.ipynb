{
  "nbformat": 4,
  "nbformat_minor": 0,
  "metadata": {
    "colab": {
      "name": "Untitled104.ipynb",
      "provenance": [],
      "authorship_tag": "ABX9TyOgs0iF0191RfIcXoQqZ15U",
      "include_colab_link": true
    },
    "kernelspec": {
      "name": "python3",
      "display_name": "Python 3"
    },
    "language_info": {
      "name": "python"
    }
  },
  "cells": [
    {
      "cell_type": "markdown",
      "metadata": {
        "id": "view-in-github",
        "colab_type": "text"
      },
      "source": [
        "<a href=\"https://colab.research.google.com/github/nurfnick/Data_Viz/blob/main/30_Visualize_Conclusion.ipynb\" target=\"_parent\"><img src=\"https://colab.research.google.com/assets/colab-badge.svg\" alt=\"Open In Colab\"/></a>"
      ]
    },
    {
      "cell_type": "markdown",
      "source": [
        "# Visualization Conclusion\n"
      ],
      "metadata": {
        "id": "J7t_hIfgAX_V"
      }
    },
    {
      "cell_type": "markdown",
      "source": [
        "What do you think will be on the exam?"
      ],
      "metadata": {
        "id": "lH6OESsFAdRL"
      }
    },
    {
      "cell_type": "markdown",
      "source": [
        "## Why Do We Visualize"
      ],
      "metadata": {
        "id": "qzuunCgfBcD8"
      }
    },
    {
      "cell_type": "markdown",
      "source": [
        "Visualization allows use to see many datapoints and once.  It allows us to compare those points quickly and efficiently.  It allows us to see trends and look for interesting aspects about our data that may be hard to parse out without a graphic.  Graphics we have done in this course.\n",
        "\n",
        "\n",
        "\n",
        "*   Bar Chart\n",
        "*   Histogram\n",
        "*   Violin Plot\n",
        "*   Box and Whisker Plot\n",
        "*   Scatter Plot\n",
        "*   Correlation Heatmap\n",
        "*   Error Bars\n",
        "*   Pie Charts\n",
        "*   Mosaic Plots\n",
        "\n"
      ],
      "metadata": {
        "id": "np9tmbJNBt38"
      }
    },
    {
      "cell_type": "code",
      "execution_count": null,
      "metadata": {
        "id": "Un9js4G_AXbH"
      },
      "outputs": [],
      "source": [
        ""
      ]
    },
    {
      "cell_type": "markdown",
      "source": [
        "## Your Turn\n",
        "\n",
        "Sumbit at least two graphics you made while thinking about what may be on the exam."
      ],
      "metadata": {
        "id": "mIN9m559Aggl"
      }
    },
    {
      "cell_type": "code",
      "source": [
        ""
      ],
      "metadata": {
        "id": "phtqs6FMAopk"
      },
      "execution_count": null,
      "outputs": []
    }
  ]
}